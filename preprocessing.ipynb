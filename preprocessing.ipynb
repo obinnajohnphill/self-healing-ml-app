{
 "cells": [
  {
   "cell_type": "code",
   "execution_count": 2,
   "id": "79160984-0951-44c7-a788-f1aa1fde9fbe",
   "metadata": {
    "tags": []
   },
   "outputs": [
    {
     "name": "stdout",
     "output_type": "stream",
     "text": [
      "['Android_preprocessed.csv', '.DS_Store', 'bootstrap', 'Linux_preprocessed.csv', '.ipynb_checkpoints', 'Mac_preprocessed.csv', 'Windows_preprocessed.csv']\n"
     ]
    }
   ],
   "source": [
    "import pandas as pd\n",
    "import os\n",
    "\n",
    "# Read in the log files for each system\n",
    "df_mac = pd.read_csv('dataset/system-logs/multiple-system-log-dataset/extracted-data/Mac_extracted.csv')\n",
    "df_win = pd.read_csv('dataset/system-logs/multiple-system-log-dataset/extracted-data/Windows_extracted.csv')\n",
    "df_android = pd.read_csv('dataset/system-logs/multiple-system-log-dataset/extracted-data/Android_extracted.csv')\n",
    "df_linux = pd.read_csv('dataset/system-logs/multiple-system-log-dataset/extracted-data/Linux_extracted.csv')\n",
    "\n",
    "# Drop any rows with missing timestamps or tokens for each system\n",
    "df_mac = df_mac.dropna(subset=['timestamp', 'tokens'])\n",
    "df_win = df_win.dropna(subset=['timestamp', 'tokens'])\n",
    "df_android = df_android.dropna(subset=['timestamp', 'tokens'])\n",
    "df_linux = df_linux.dropna(subset=['timestamp', 'tokens'])\n",
    "\n",
    "# Convert tokens column to string type for each system\n",
    "df_mac['tokens'] = df_mac['tokens'].astype(str)\n",
    "df_win['tokens'] = df_win['tokens'].astype(str)\n",
    "df_android['tokens'] = df_android['tokens'].astype(str)\n",
    "df_linux['tokens'] = df_linux['tokens'].astype(str)\n",
    "\n",
    "# Fill missing error and warning values using forward fill for each system\n",
    "df_mac['error'] = df_mac['error'].fillna(method='ffill')\n",
    "df_mac['warning'] = df_mac['warning'].fillna(method='ffill')\n",
    "df_win['error'] = df_win['error'].fillna(method='ffill')\n",
    "df_win['warning'] = df_win['warning'].fillna(method='ffill')\n",
    "df_android['error'] = df_android['error'].fillna(method='ffill')\n",
    "df_android['warning'] = df_android['warning'].fillna(method='ffill')\n",
    "df_linux['error'] = df_linux['error'].fillna(method='ffill')\n",
    "df_linux['warning'] = df_linux['warning'].fillna(method='ffill')\n",
    "\n",
    "# Extract only the columns we need for each system\n",
    "df_mac = df_mac[['timestamp', 'tokens', 'error', 'warning']]\n",
    "df_win = df_win[['timestamp', 'tokens', 'error', 'warning']]\n",
    "df_android = df_android[['timestamp', 'tokens', 'error', 'warning']]\n",
    "df_linux = df_linux[['timestamp', 'tokens', 'error', 'warning']]\n",
    "\n",
    "# Add Label column based on file name for each system\n",
    "df_mac['Label'] = df_mac.index.get_level_values(0).astype(str).str.split('/').str[-1].str.split('.').str[0]\n",
    "df_win['Label'] = df_win.index.get_level_values(0).astype(str).str.split('/').str[-1].str.split('.').str[0]\n",
    "df_android['Label'] = df_android.index.get_level_values(0).astype(str).str.split('/').str[-1].str.split('.').str[0]\n",
    "df_linux['Label'] = df_linux.index.get_level_values(0).astype(str).str.split('/').str[-1].str.split('.').str[0]\n",
    "\n",
    "# Save preprocessed data to CSV files for each system\n",
    "df_mac.to_csv('dataset/system-logs/multiple-system-log-dataset/preprocessed-data/Mac_preprocessed.csv', index=False)\n",
    "df_win.to_csv('dataset/system-logs/multiple-system-log-dataset/preprocessed-data/Windows_preprocessed.csv', index=False)\n",
    "df_android.to_csv('dataset/system-logs/multiple-system-log-dataset/preprocessed-data/Android_preprocessed.csv', index=False)\n",
    "df_linux.to_csv('dataset/system-logs/multiple-system-log-dataset/preprocessed-data/Linux_preprocessed.csv', index=False)\n",
    "\n",
    "preprocessed_dir = 'dataset/system-logs/multiple-system-log-dataset/preprocessed-data'\n",
    "print(os.listdir(preprocessed_dir))\n"
   ]
  },
  {
   "cell_type": "code",
   "execution_count": null,
   "id": "6225b77e-b280-4e19-8106-6e0a5c3edd46",
   "metadata": {},
   "outputs": [],
   "source": []
  }
 ],
 "metadata": {
  "kernelspec": {
   "display_name": "Python 3 (ipykernel)",
   "language": "python",
   "name": "python3"
  },
  "language_info": {
   "codemirror_mode": {
    "name": "ipython",
    "version": 3
   },
   "file_extension": ".py",
   "mimetype": "text/x-python",
   "name": "python",
   "nbconvert_exporter": "python",
   "pygments_lexer": "ipython3",
   "version": "3.11.8"
  }
 },
 "nbformat": 4,
 "nbformat_minor": 5
}
