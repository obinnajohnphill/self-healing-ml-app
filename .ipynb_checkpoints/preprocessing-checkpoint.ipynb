{
 "cells": [
  {
   "cell_type": "code",
   "execution_count": 5,
   "id": "79160984-0951-44c7-a788-f1aa1fde9fbe",
   "metadata": {},
   "outputs": [
    {
     "name": "stdout",
     "output_type": "stream",
     "text": [
      "['Android_preprocessed.csv', 'dataset', '.ipynb_checkpoints', 'Mac_preprocessed.csv', 'Windows_preprocessed.csv']\n"
     ]
    }
   ],
   "source": [
    "import pandas as pd\n",
    "import os\n",
    "\n",
    "# Read in the log files\n",
    "df_mac = pd.read_csv('dataset/system-logs/multiple-system-log-dataset/extracted-data/Mac_extracted.csv')\n",
    "df_win = pd.read_csv('dataset/system-logs/multiple-system-log-dataset/extracted-data/Windows_extracted.csv')\n",
    "df_android = pd.read_csv('dataset/system-logs/multiple-system-log-dataset/extracted-data/Android_extracted.csv')\n",
    "\n",
    "# Concatenate the dataframes into a single dataframe\n",
    "df_logs = pd.concat([df_mac, df_win, df_android])\n",
    "\n",
    "# Drop any rows with missing timestamps or tokens\n",
    "df_logs = df_logs.dropna(subset=['timestamp', 'tokens'])\n",
    "\n",
    "# Convert tokens column to string type\n",
    "df_logs['tokens'] = df_logs['tokens'].astype(str)\n",
    "\n",
    "# Fill missing error and warning values using forward fill\n",
    "df_logs['error'] = df_logs['error'].fillna(method='ffill')\n",
    "df_logs['warning'] = df_logs['warning'].fillna(method='ffill')\n",
    "\n",
    "# Extract only the columns we need\n",
    "df_logs = df_logs[['timestamp', 'tokens', 'error', 'warning']]\n",
    "\n",
    "# Add Label column based on file name\n",
    "df_logs['Label'] = df_logs.index.get_level_values(0).astype(str).str.split('/').str[-1].str.split('.').str[0]\n",
    "\n",
    "\n",
    "# Save preprocessed data to CSV files\n",
    "df_logs.to_csv('dataset/system-logs/multiple-system-log-dataset/preprocessed-data/Mac_preprocessed.csv', index=False)\n",
    "df_logs.to_csv('dataset/system-logs/multiple-system-log-dataset/preprocessed-data/Windows_preprocessed.csv', index=False)\n",
    "df_logs.to_csv('dataset/system-logs/multiple-system-log-dataset/preprocessed-data/Android_preprocessed.csv', index=False)\n",
    "preprocessed_dir = 'dataset/system-logs/multiple-system-log-dataset/preprocessed-data'\n",
    "print(os.listdir(preprocessed_dir))\n",
    "\n"
   ]
  },
  {
   "cell_type": "code",
   "execution_count": null,
   "id": "125fd515-dbbf-4019-be7b-ce51d2d16e27",
   "metadata": {},
   "outputs": [],
   "source": []
  },
  {
   "cell_type": "code",
   "execution_count": null,
   "id": "51847f48-ddcf-425a-8192-141a56eb5f45",
   "metadata": {},
   "outputs": [],
   "source": []
  },
  {
   "cell_type": "code",
   "execution_count": null,
   "id": "ad9ac6de-f0c7-422a-a929-8ba79b77079d",
   "metadata": {},
   "outputs": [],
   "source": []
  },
  {
   "cell_type": "code",
   "execution_count": null,
   "id": "dfeda09f-b633-448a-93ae-84f3013bc289",
   "metadata": {},
   "outputs": [],
   "source": []
  },
  {
   "cell_type": "code",
   "execution_count": null,
   "id": "d0a55a70-f56f-47d8-8122-0efc007cf5fa",
   "metadata": {},
   "outputs": [],
   "source": []
  }
 ],
 "metadata": {
  "kernelspec": {
   "display_name": "Python 3 (ipykernel)",
   "language": "python",
   "name": "python3"
  },
  "language_info": {
   "codemirror_mode": {
    "name": "ipython",
    "version": 3
   },
   "file_extension": ".py",
   "mimetype": "text/x-python",
   "name": "python",
   "nbconvert_exporter": "python",
   "pygments_lexer": "ipython3",
   "version": "3.10.9"
  }
 },
 "nbformat": 4,
 "nbformat_minor": 5
}
