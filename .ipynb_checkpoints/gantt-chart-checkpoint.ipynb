{
 "cells": [
  {
   "cell_type": "code",
   "execution_count": 8,
   "id": "a784e3a8-c416-4893-b4d8-da695be29783",
   "metadata": {
    "tags": []
   },
   "outputs": [
    {
     "name": "stderr",
     "output_type": "stream",
     "text": [
      "/var/folders/nc/26lhx7sx76j1h4v0b4gg6f3m0000gn/T/ipykernel_75725/92238257.py:60: FutureWarning: save is not part of the public API, usage can give unexpected results and will be removed in a future version\n",
      "  writer.save()\n",
      "/opt/anaconda3/lib/python3.11/site-packages/xlsxwriter/workbook.py:369: UserWarning: Calling close() on already closed file.\n",
      "  warn(\"Calling close() on already closed file.\")\n"
     ]
    },
    {
     "data": {
      "text/plain": [
       "'project-management/data/2023_2024_PhD_Research_Project_Management_Plan.xlsx'"
      ]
     },
     "execution_count": 8,
     "metadata": {},
     "output_type": "execute_result"
    }
   ],
   "source": [
    "import pandas as pd\n",
    "\n",
    "# Define the structure for one month with additional \"Completed\" column in UK date format\n",
    "data = {\n",
    "    'Task': ['Task 1', 'Task 2', 'Task 3'],\n",
    "    'Start Date': ['01/01/2023', '10/01/2023', '20/01/2023'],\n",
    "    'End Date': ['05/01/2023', '15/01/2023', '25/01/2023'],\n",
    "    'Milestones': ['Milestone 1', '', 'Milestone 2'],\n",
    "    'Completed': ['Yes', 'No', 'Yes']\n",
    "}\n",
    "\n",
    "# Create a DataFrame for January\n",
    "df_jan = pd.DataFrame(data)\n",
    "\n",
    "# Create columns for each day in January\n",
    "days = [f'Day {i}' for i in range(1, 32)]\n",
    "for day in days:\n",
    "    df_jan[day] = ''\n",
    "\n",
    "# Create an Excel writer object and save the DataFrame to it\n",
    "excel_path = 'project-management/data/2023_2024_PhD_Research_Project_Management_Plan.xlsx'\n",
    "with pd.ExcelWriter(excel_path, engine='xlsxwriter') as writer:\n",
    "    # Write the DataFrame to each month's sheet\n",
    "    for month in ['January', 'February', 'March', 'April', 'May', 'June', 'July', 'August', 'September', 'October', 'November', 'December']:\n",
    "        df_jan.to_excel(writer, sheet_name=month, index=False, startrow=2)\n",
    "        \n",
    "        # Access the workbook and worksheet objects\n",
    "        workbook  = writer.book\n",
    "        worksheet = writer.sheets[month]\n",
    "        \n",
    "        # Add the header title above the dates row\n",
    "        worksheet.merge_range('A1:AG1', '2023 to 2024 Research Project Management Plan for PhD', workbook.add_format({'bold': True, 'align': 'center', 'valign': 'vcenter', 'font_size': 14}))\n",
    "        \n",
    "        # Create a section for legends at the bottom with a blank row in between\n",
    "        last_row = len(df_jan) + 5\n",
    "        worksheet.write(f'A{last_row}', 'Legends', workbook.add_format({'bold': True}))\n",
    "        worksheet.write(f'A{last_row+1}', '', workbook.add_format({'bg_color': '#C6EFCE', 'bold': True}))  # Light green\n",
    "        worksheet.write(f'B{last_row+1}', 'Completed Task', workbook.add_format({'bold': True}))\n",
    "        worksheet.write(f'A{last_row+2}', '', workbook.add_format({'bg_color': '#FFC7CE', 'bold': True}))  # Light red\n",
    "        worksheet.write(f'B{last_row+2}', 'Incomplete Task', workbook.add_format({'bold': True}))\n",
    "        worksheet.write(f'A{last_row+3}', '', workbook.add_format({'bg_color': '#FFEB9C', 'bold': True}))  # Light orange\n",
    "        worksheet.write(f'B{last_row+3}', 'Milestone', workbook.add_format({'bold': True}))\n",
    "\n",
    "        # Apply the color coding to the tasks\n",
    "        completed_format = workbook.add_format({'bg_color': '#C6EFCE', 'bold': True})  # Light green\n",
    "        incomplete_format = workbook.add_format({'bg_color': '#FFC7CE', 'bold': True})  # Light red\n",
    "        milestone_format = workbook.add_format({'bg_color': '#FFEB9C', 'bold': True})  # Light orange\n",
    "\n",
    "        for index, row in df_jan.iterrows():\n",
    "            start_day = int(row['Start Date'].split('/')[0])\n",
    "            end_day = int(row['End Date'].split('/')[0])\n",
    "            format_to_apply = completed_format if row['Completed'] == 'Yes' else incomplete_format\n",
    "            for day in range(start_day, end_day + 1):\n",
    "                worksheet.write(3 + index, 4 + day - 1, '', format_to_apply)\n",
    "            if row['Milestones']:\n",
    "                milestone_day = int(row['Start Date'].split('/')[0])\n",
    "                worksheet.write(3 + index, 4 + milestone_day - 1, '', milestone_format)\n",
    "\n",
    "# Save the workbook\n",
    "writer.save()\n",
    "\n",
    "excel_path\n"
   ]
  },
  {
   "cell_type": "code",
   "execution_count": null,
   "id": "135456be-c06d-432a-a435-573501fd0320",
   "metadata": {},
   "outputs": [],
   "source": []
  }
 ],
 "metadata": {
  "kernelspec": {
   "display_name": "Python 3 (ipykernel)",
   "language": "python",
   "name": "python3"
  },
  "language_info": {
   "codemirror_mode": {
    "name": "ipython",
    "version": 3
   },
   "file_extension": ".py",
   "mimetype": "text/x-python",
   "name": "python",
   "nbconvert_exporter": "python",
   "pygments_lexer": "ipython3",
   "version": "3.11.8"
  }
 },
 "nbformat": 4,
 "nbformat_minor": 5
}
