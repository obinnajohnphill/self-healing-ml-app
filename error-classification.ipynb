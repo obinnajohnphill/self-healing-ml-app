{
 "cells": [
  {
   "cell_type": "code",
   "execution_count": null,
   "id": "d63c268d-ae1a-4acd-906b-69009499719c",
   "metadata": {
    "tags": []
   },
   "outputs": [],
   "source": [
    "import pandas as pd\n",
    "from datetime import datetime\n",
    "import re\n",
    "\n",
    "# Define the log file paths\n",
    "log_files = ['dataset/system-logs/multiple-system-log-dataset/extracted-data/Mac_extracted.csv', \n",
    "             'dataset/system-logs/multiple-system-log-dataset/extracted-data/Windows_extracted.csv', \n",
    "             'dataset/system-logs/multiple-system-log-dataset/extracted-data/Android_extracted.csv',\n",
    "             'dataset/system-logs/multiple-system-log-dataset/extracted-data/Linux_extracted.csv',\n",
    "            ]\n",
    "\n",
    "# Define the timestamp regex pattern\n",
    "timestamp_regex = r'(?:\\d{4}-\\d{2}-\\d{2}\\s\\d{2}:\\d{2}:\\d{2})|(?:\\w{3}\\s+\\d{1,2}\\s\\d{2}:\\d{2}:\\d{2})|(?:\\d{2}-\\d{2}\\s\\d{2}:\\d{2}:\\d{2}\\.\\d{3})'\n",
    "\n",
    "# Load preprocessed log data\n",
    "df_logs = pd.DataFrame()\n",
    "for file in log_files:\n",
    "    try:\n",
    "        df = pd.read_csv(file, usecols=['timestamp', 'tokens', 'error', 'warning'])\n",
    "        df['Label'] = file.split('/')[-1].split('_')[0]\n",
    "        df_logs = pd.concat([df_logs, df])\n",
    "    except ValueError as e:\n",
    "        print(f\"Error: {e}. Skipping this file.\")\n",
    "\n",
    "# Extract timestamp from the tokens column and convert to datetime object\n",
    "df_logs['timestamp'] = df_logs['tokens'].str.extract(f'({timestamp_regex})', expand=False)\n",
    "df_logs['timestamp'] = pd.to_datetime(df_logs['timestamp'], errors='coerce')\n",
    "\n",
    "# Summarize the log data\n",
    "for system, df in df_logs.groupby('Label'):\n",
    "    num_errors = df['error'].sum()\n",
    "    num_warnings = df['warning'].sum()\n",
    "    print(\"\")\n",
    "    print(f\"System: {system}\")\n",
    "    print(f\"Number of errors: {num_errors}\")\n",
    "    print(f\"Number of warnings: {num_warnings}\")\n",
    "    print(\"\")\n",
    "\n",
    "    "
   ]
  },
  {
   "cell_type": "code",
   "execution_count": null,
   "id": "1142ff4d-59ed-4e1c-81f9-ec6181ba6393",
   "metadata": {},
   "outputs": [],
   "source": []
  },
  {
   "cell_type": "code",
   "execution_count": null,
   "id": "90307373-6343-4fe0-bb15-510b6f6f8abf",
   "metadata": {},
   "outputs": [],
   "source": []
  }
 ],
 "metadata": {
  "kernelspec": {
   "display_name": "Python 3 (ipykernel)",
   "language": "python",
   "name": "python3"
  },
  "language_info": {
   "codemirror_mode": {
    "name": "ipython",
    "version": 3
   },
   "file_extension": ".py",
   "mimetype": "text/x-python",
   "name": "python",
   "nbconvert_exporter": "python",
   "pygments_lexer": "ipython3",
   "version": "3.11.8"
  }
 },
 "nbformat": 4,
 "nbformat_minor": 5
}
